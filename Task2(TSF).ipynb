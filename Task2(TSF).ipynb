{
  "nbformat": 4,
  "nbformat_minor": 0,
  "metadata": {
    "colab": {
      "provenance": [],
      "collapsed_sections": []
    },
    "kernelspec": {
      "name": "python3",
      "display_name": "Python 3"
    },
    "language_info": {
      "name": "python"
    }
  },
  "cells": [
    {
      "cell_type": "markdown",
      "source": [
        "PRADNYA MALOJI POPHALE\n",
        "\n",
        "Data Science and Business Analytics Intern at The Sparks Foundation\n",
        "\n",
        "Task2 : Prediction using Unsupervised ML\n",
        "\n",
        "Dataset : Iris.csv (https://bit.ly/3kXTdox)\n",
        "\n",
        "Algorithm used here : K-Means Clustering"
      ],
      "metadata": {
        "id": "hWlf7UxukDMS"
      }
    },
    {
      "cell_type": "code",
      "execution_count": null,
      "metadata": {
        "id": "GpUVpooDkChU"
      },
      "outputs": [],
      "source": [
        "#Import libraries\n",
        "import os\n",
        "os.environ[\"MKL_NUM_THREADS\"] = \"1\" \n",
        "os.environ[\"NUMEXPR_NUM_THREADS\"] = \"1\" \n",
        "os.environ[\"OMP_NUM_THREADS\"] = \"1\" \n",
        "import matplotlib.pyplot as plt\n",
        "import pandas as pd\n",
        "import numpy as np\n",
        "\n",
        "from sklearn.datasets import load_iris\n",
        "from sklearn.model_selection import train_test_split\n",
        "from sklearn.preprocessing import StandardScaler\n",
        "\n",
        "from sklearn.cluster import KMeans\n",
        "from sklearn.decomposition import PCA"
      ]
    },
    {
      "cell_type": "code",
      "source": [
        "df=pd.read_csv(\"Iris.csv\")\n",
        "df"
      ],
      "metadata": {
        "colab": {
          "base_uri": "https://localhost:8080/",
          "height": 424
        },
        "id": "oqahLzIQkyyC",
        "outputId": "1eefb213-6ab6-4635-c761-dc07e088ad1d"
      },
      "execution_count": null,
      "outputs": [
        {
          "output_type": "execute_result",
          "data": {
            "text/plain": [
              "      Id  SepalLengthCm  SepalWidthCm  PetalLengthCm  PetalWidthCm  \\\n",
              "0      1            5.1           3.5            1.4           0.2   \n",
              "1      2            4.9           3.0            1.4           0.2   \n",
              "2      3            4.7           3.2            1.3           0.2   \n",
              "3      4            4.6           3.1            1.5           0.2   \n",
              "4      5            5.0           3.6            1.4           0.2   \n",
              "..   ...            ...           ...            ...           ...   \n",
              "145  146            6.7           3.0            5.2           2.3   \n",
              "146  147            6.3           2.5            5.0           1.9   \n",
              "147  148            6.5           3.0            5.2           2.0   \n",
              "148  149            6.2           3.4            5.4           2.3   \n",
              "149  150            5.9           3.0            5.1           1.8   \n",
              "\n",
              "            Species  \n",
              "0       Iris-setosa  \n",
              "1       Iris-setosa  \n",
              "2       Iris-setosa  \n",
              "3       Iris-setosa  \n",
              "4       Iris-setosa  \n",
              "..              ...  \n",
              "145  Iris-virginica  \n",
              "146  Iris-virginica  \n",
              "147  Iris-virginica  \n",
              "148  Iris-virginica  \n",
              "149  Iris-virginica  \n",
              "\n",
              "[150 rows x 6 columns]"
            ],
            "text/html": [
              "\n",
              "  <div id=\"df-9d88c3d2-11c9-4b1d-8a4e-272fb219a15a\">\n",
              "    <div class=\"colab-df-container\">\n",
              "      <div>\n",
              "<style scoped>\n",
              "    .dataframe tbody tr th:only-of-type {\n",
              "        vertical-align: middle;\n",
              "    }\n",
              "\n",
              "    .dataframe tbody tr th {\n",
              "        vertical-align: top;\n",
              "    }\n",
              "\n",
              "    .dataframe thead th {\n",
              "        text-align: right;\n",
              "    }\n",
              "</style>\n",
              "<table border=\"1\" class=\"dataframe\">\n",
              "  <thead>\n",
              "    <tr style=\"text-align: right;\">\n",
              "      <th></th>\n",
              "      <th>Id</th>\n",
              "      <th>SepalLengthCm</th>\n",
              "      <th>SepalWidthCm</th>\n",
              "      <th>PetalLengthCm</th>\n",
              "      <th>PetalWidthCm</th>\n",
              "      <th>Species</th>\n",
              "    </tr>\n",
              "  </thead>\n",
              "  <tbody>\n",
              "    <tr>\n",
              "      <th>0</th>\n",
              "      <td>1</td>\n",
              "      <td>5.1</td>\n",
              "      <td>3.5</td>\n",
              "      <td>1.4</td>\n",
              "      <td>0.2</td>\n",
              "      <td>Iris-setosa</td>\n",
              "    </tr>\n",
              "    <tr>\n",
              "      <th>1</th>\n",
              "      <td>2</td>\n",
              "      <td>4.9</td>\n",
              "      <td>3.0</td>\n",
              "      <td>1.4</td>\n",
              "      <td>0.2</td>\n",
              "      <td>Iris-setosa</td>\n",
              "    </tr>\n",
              "    <tr>\n",
              "      <th>2</th>\n",
              "      <td>3</td>\n",
              "      <td>4.7</td>\n",
              "      <td>3.2</td>\n",
              "      <td>1.3</td>\n",
              "      <td>0.2</td>\n",
              "      <td>Iris-setosa</td>\n",
              "    </tr>\n",
              "    <tr>\n",
              "      <th>3</th>\n",
              "      <td>4</td>\n",
              "      <td>4.6</td>\n",
              "      <td>3.1</td>\n",
              "      <td>1.5</td>\n",
              "      <td>0.2</td>\n",
              "      <td>Iris-setosa</td>\n",
              "    </tr>\n",
              "    <tr>\n",
              "      <th>4</th>\n",
              "      <td>5</td>\n",
              "      <td>5.0</td>\n",
              "      <td>3.6</td>\n",
              "      <td>1.4</td>\n",
              "      <td>0.2</td>\n",
              "      <td>Iris-setosa</td>\n",
              "    </tr>\n",
              "    <tr>\n",
              "      <th>...</th>\n",
              "      <td>...</td>\n",
              "      <td>...</td>\n",
              "      <td>...</td>\n",
              "      <td>...</td>\n",
              "      <td>...</td>\n",
              "      <td>...</td>\n",
              "    </tr>\n",
              "    <tr>\n",
              "      <th>145</th>\n",
              "      <td>146</td>\n",
              "      <td>6.7</td>\n",
              "      <td>3.0</td>\n",
              "      <td>5.2</td>\n",
              "      <td>2.3</td>\n",
              "      <td>Iris-virginica</td>\n",
              "    </tr>\n",
              "    <tr>\n",
              "      <th>146</th>\n",
              "      <td>147</td>\n",
              "      <td>6.3</td>\n",
              "      <td>2.5</td>\n",
              "      <td>5.0</td>\n",
              "      <td>1.9</td>\n",
              "      <td>Iris-virginica</td>\n",
              "    </tr>\n",
              "    <tr>\n",
              "      <th>147</th>\n",
              "      <td>148</td>\n",
              "      <td>6.5</td>\n",
              "      <td>3.0</td>\n",
              "      <td>5.2</td>\n",
              "      <td>2.0</td>\n",
              "      <td>Iris-virginica</td>\n",
              "    </tr>\n",
              "    <tr>\n",
              "      <th>148</th>\n",
              "      <td>149</td>\n",
              "      <td>6.2</td>\n",
              "      <td>3.4</td>\n",
              "      <td>5.4</td>\n",
              "      <td>2.3</td>\n",
              "      <td>Iris-virginica</td>\n",
              "    </tr>\n",
              "    <tr>\n",
              "      <th>149</th>\n",
              "      <td>150</td>\n",
              "      <td>5.9</td>\n",
              "      <td>3.0</td>\n",
              "      <td>5.1</td>\n",
              "      <td>1.8</td>\n",
              "      <td>Iris-virginica</td>\n",
              "    </tr>\n",
              "  </tbody>\n",
              "</table>\n",
              "<p>150 rows × 6 columns</p>\n",
              "</div>\n",
              "      <button class=\"colab-df-convert\" onclick=\"convertToInteractive('df-9d88c3d2-11c9-4b1d-8a4e-272fb219a15a')\"\n",
              "              title=\"Convert this dataframe to an interactive table.\"\n",
              "              style=\"display:none;\">\n",
              "        \n",
              "  <svg xmlns=\"http://www.w3.org/2000/svg\" height=\"24px\"viewBox=\"0 0 24 24\"\n",
              "       width=\"24px\">\n",
              "    <path d=\"M0 0h24v24H0V0z\" fill=\"none\"/>\n",
              "    <path d=\"M18.56 5.44l.94 2.06.94-2.06 2.06-.94-2.06-.94-.94-2.06-.94 2.06-2.06.94zm-11 1L8.5 8.5l.94-2.06 2.06-.94-2.06-.94L8.5 2.5l-.94 2.06-2.06.94zm10 10l.94 2.06.94-2.06 2.06-.94-2.06-.94-.94-2.06-.94 2.06-2.06.94z\"/><path d=\"M17.41 7.96l-1.37-1.37c-.4-.4-.92-.59-1.43-.59-.52 0-1.04.2-1.43.59L10.3 9.45l-7.72 7.72c-.78.78-.78 2.05 0 2.83L4 21.41c.39.39.9.59 1.41.59.51 0 1.02-.2 1.41-.59l7.78-7.78 2.81-2.81c.8-.78.8-2.07 0-2.86zM5.41 20L4 18.59l7.72-7.72 1.47 1.35L5.41 20z\"/>\n",
              "  </svg>\n",
              "      </button>\n",
              "      \n",
              "  <style>\n",
              "    .colab-df-container {\n",
              "      display:flex;\n",
              "      flex-wrap:wrap;\n",
              "      gap: 12px;\n",
              "    }\n",
              "\n",
              "    .colab-df-convert {\n",
              "      background-color: #E8F0FE;\n",
              "      border: none;\n",
              "      border-radius: 50%;\n",
              "      cursor: pointer;\n",
              "      display: none;\n",
              "      fill: #1967D2;\n",
              "      height: 32px;\n",
              "      padding: 0 0 0 0;\n",
              "      width: 32px;\n",
              "    }\n",
              "\n",
              "    .colab-df-convert:hover {\n",
              "      background-color: #E2EBFA;\n",
              "      box-shadow: 0px 1px 2px rgba(60, 64, 67, 0.3), 0px 1px 3px 1px rgba(60, 64, 67, 0.15);\n",
              "      fill: #174EA6;\n",
              "    }\n",
              "\n",
              "    [theme=dark] .colab-df-convert {\n",
              "      background-color: #3B4455;\n",
              "      fill: #D2E3FC;\n",
              "    }\n",
              "\n",
              "    [theme=dark] .colab-df-convert:hover {\n",
              "      background-color: #434B5C;\n",
              "      box-shadow: 0px 1px 3px 1px rgba(0, 0, 0, 0.15);\n",
              "      filter: drop-shadow(0px 1px 2px rgba(0, 0, 0, 0.3));\n",
              "      fill: #FFFFFF;\n",
              "    }\n",
              "  </style>\n",
              "\n",
              "      <script>\n",
              "        const buttonEl =\n",
              "          document.querySelector('#df-9d88c3d2-11c9-4b1d-8a4e-272fb219a15a button.colab-df-convert');\n",
              "        buttonEl.style.display =\n",
              "          google.colab.kernel.accessAllowed ? 'block' : 'none';\n",
              "\n",
              "        async function convertToInteractive(key) {\n",
              "          const element = document.querySelector('#df-9d88c3d2-11c9-4b1d-8a4e-272fb219a15a');\n",
              "          const dataTable =\n",
              "            await google.colab.kernel.invokeFunction('convertToInteractive',\n",
              "                                                     [key], {});\n",
              "          if (!dataTable) return;\n",
              "\n",
              "          const docLinkHtml = 'Like what you see? Visit the ' +\n",
              "            '<a target=\"_blank\" href=https://colab.research.google.com/notebooks/data_table.ipynb>data table notebook</a>'\n",
              "            + ' to learn more about interactive tables.';\n",
              "          element.innerHTML = '';\n",
              "          dataTable['output_type'] = 'display_data';\n",
              "          await google.colab.output.renderOutput(dataTable, element);\n",
              "          const docLink = document.createElement('div');\n",
              "          docLink.innerHTML = docLinkHtml;\n",
              "          element.appendChild(docLink);\n",
              "        }\n",
              "      </script>\n",
              "    </div>\n",
              "  </div>\n",
              "  "
            ]
          },
          "metadata": {},
          "execution_count": 2
        }
      ]
    },
    {
      "cell_type": "code",
      "source": [
        "df.info()"
      ],
      "metadata": {
        "colab": {
          "base_uri": "https://localhost:8080/"
        },
        "id": "bm0-Y6d4ky_x",
        "outputId": "9bedea64-4a82-416a-8546-bfd887e27131"
      },
      "execution_count": null,
      "outputs": [
        {
          "output_type": "stream",
          "name": "stdout",
          "text": [
            "<class 'pandas.core.frame.DataFrame'>\n",
            "RangeIndex: 150 entries, 0 to 149\n",
            "Data columns (total 6 columns):\n",
            " #   Column         Non-Null Count  Dtype  \n",
            "---  ------         --------------  -----  \n",
            " 0   Id             150 non-null    int64  \n",
            " 1   SepalLengthCm  150 non-null    float64\n",
            " 2   SepalWidthCm   150 non-null    float64\n",
            " 3   PetalLengthCm  150 non-null    float64\n",
            " 4   PetalWidthCm   150 non-null    float64\n",
            " 5   Species        150 non-null    object \n",
            "dtypes: float64(4), int64(1), object(1)\n",
            "memory usage: 7.2+ KB\n"
          ]
        }
      ]
    },
    {
      "cell_type": "code",
      "source": [
        "features = ['PetalLengthCm','PetalWidthCm']\n",
        "\n",
        "# Create features matrix\n",
        "x = df.loc[:, features].values"
      ],
      "metadata": {
        "id": "lbHorDDokzKL"
      },
      "execution_count": null,
      "outputs": []
    },
    {
      "cell_type": "code",
      "source": [
        "x"
      ],
      "metadata": {
        "colab": {
          "base_uri": "https://localhost:8080/"
        },
        "id": "7UnoNh2nkzTX",
        "outputId": "c13586ac-b120-462d-a6ba-5a1b21e0c2d9"
      },
      "execution_count": null,
      "outputs": [
        {
          "output_type": "execute_result",
          "data": {
            "text/plain": [
              "array([[1.4, 0.2],\n",
              "       [1.4, 0.2],\n",
              "       [1.3, 0.2],\n",
              "       [1.5, 0.2],\n",
              "       [1.4, 0.2],\n",
              "       [1.7, 0.4],\n",
              "       [1.4, 0.3],\n",
              "       [1.5, 0.2],\n",
              "       [1.4, 0.2],\n",
              "       [1.5, 0.1],\n",
              "       [1.5, 0.2],\n",
              "       [1.6, 0.2],\n",
              "       [1.4, 0.1],\n",
              "       [1.1, 0.1],\n",
              "       [1.2, 0.2],\n",
              "       [1.5, 0.4],\n",
              "       [1.3, 0.4],\n",
              "       [1.4, 0.3],\n",
              "       [1.7, 0.3],\n",
              "       [1.5, 0.3],\n",
              "       [1.7, 0.2],\n",
              "       [1.5, 0.4],\n",
              "       [1. , 0.2],\n",
              "       [1.7, 0.5],\n",
              "       [1.9, 0.2],\n",
              "       [1.6, 0.2],\n",
              "       [1.6, 0.4],\n",
              "       [1.5, 0.2],\n",
              "       [1.4, 0.2],\n",
              "       [1.6, 0.2],\n",
              "       [1.6, 0.2],\n",
              "       [1.5, 0.4],\n",
              "       [1.5, 0.1],\n",
              "       [1.4, 0.2],\n",
              "       [1.5, 0.1],\n",
              "       [1.2, 0.2],\n",
              "       [1.3, 0.2],\n",
              "       [1.5, 0.1],\n",
              "       [1.3, 0.2],\n",
              "       [1.5, 0.2],\n",
              "       [1.3, 0.3],\n",
              "       [1.3, 0.3],\n",
              "       [1.3, 0.2],\n",
              "       [1.6, 0.6],\n",
              "       [1.9, 0.4],\n",
              "       [1.4, 0.3],\n",
              "       [1.6, 0.2],\n",
              "       [1.4, 0.2],\n",
              "       [1.5, 0.2],\n",
              "       [1.4, 0.2],\n",
              "       [4.7, 1.4],\n",
              "       [4.5, 1.5],\n",
              "       [4.9, 1.5],\n",
              "       [4. , 1.3],\n",
              "       [4.6, 1.5],\n",
              "       [4.5, 1.3],\n",
              "       [4.7, 1.6],\n",
              "       [3.3, 1. ],\n",
              "       [4.6, 1.3],\n",
              "       [3.9, 1.4],\n",
              "       [3.5, 1. ],\n",
              "       [4.2, 1.5],\n",
              "       [4. , 1. ],\n",
              "       [4.7, 1.4],\n",
              "       [3.6, 1.3],\n",
              "       [4.4, 1.4],\n",
              "       [4.5, 1.5],\n",
              "       [4.1, 1. ],\n",
              "       [4.5, 1.5],\n",
              "       [3.9, 1.1],\n",
              "       [4.8, 1.8],\n",
              "       [4. , 1.3],\n",
              "       [4.9, 1.5],\n",
              "       [4.7, 1.2],\n",
              "       [4.3, 1.3],\n",
              "       [4.4, 1.4],\n",
              "       [4.8, 1.4],\n",
              "       [5. , 1.7],\n",
              "       [4.5, 1.5],\n",
              "       [3.5, 1. ],\n",
              "       [3.8, 1.1],\n",
              "       [3.7, 1. ],\n",
              "       [3.9, 1.2],\n",
              "       [5.1, 1.6],\n",
              "       [4.5, 1.5],\n",
              "       [4.5, 1.6],\n",
              "       [4.7, 1.5],\n",
              "       [4.4, 1.3],\n",
              "       [4.1, 1.3],\n",
              "       [4. , 1.3],\n",
              "       [4.4, 1.2],\n",
              "       [4.6, 1.4],\n",
              "       [4. , 1.2],\n",
              "       [3.3, 1. ],\n",
              "       [4.2, 1.3],\n",
              "       [4.2, 1.2],\n",
              "       [4.2, 1.3],\n",
              "       [4.3, 1.3],\n",
              "       [3. , 1.1],\n",
              "       [4.1, 1.3],\n",
              "       [6. , 2.5],\n",
              "       [5.1, 1.9],\n",
              "       [5.9, 2.1],\n",
              "       [5.6, 1.8],\n",
              "       [5.8, 2.2],\n",
              "       [6.6, 2.1],\n",
              "       [4.5, 1.7],\n",
              "       [6.3, 1.8],\n",
              "       [5.8, 1.8],\n",
              "       [6.1, 2.5],\n",
              "       [5.1, 2. ],\n",
              "       [5.3, 1.9],\n",
              "       [5.5, 2.1],\n",
              "       [5. , 2. ],\n",
              "       [5.1, 2.4],\n",
              "       [5.3, 2.3],\n",
              "       [5.5, 1.8],\n",
              "       [6.7, 2.2],\n",
              "       [6.9, 2.3],\n",
              "       [5. , 1.5],\n",
              "       [5.7, 2.3],\n",
              "       [4.9, 2. ],\n",
              "       [6.7, 2. ],\n",
              "       [4.9, 1.8],\n",
              "       [5.7, 2.1],\n",
              "       [6. , 1.8],\n",
              "       [4.8, 1.8],\n",
              "       [4.9, 1.8],\n",
              "       [5.6, 2.1],\n",
              "       [5.8, 1.6],\n",
              "       [6.1, 1.9],\n",
              "       [6.4, 2. ],\n",
              "       [5.6, 2.2],\n",
              "       [5.1, 1.5],\n",
              "       [5.6, 1.4],\n",
              "       [6.1, 2.3],\n",
              "       [5.6, 2.4],\n",
              "       [5.5, 1.8],\n",
              "       [4.8, 1.8],\n",
              "       [5.4, 2.1],\n",
              "       [5.6, 2.4],\n",
              "       [5.1, 2.3],\n",
              "       [5.1, 1.9],\n",
              "       [5.9, 2.3],\n",
              "       [5.7, 2.5],\n",
              "       [5.2, 2.3],\n",
              "       [5. , 1.9],\n",
              "       [5.2, 2. ],\n",
              "       [5.4, 2.3],\n",
              "       [5.1, 1.8]])"
            ]
          },
          "metadata": {},
          "execution_count": 5
        }
      ]
    },
    {
      "cell_type": "code",
      "source": [
        "from sklearn import preprocessing\n",
        "le=preprocessing.LabelEncoder()"
      ],
      "metadata": {
        "id": "fsrNwOizlflc"
      },
      "execution_count": null,
      "outputs": []
    },
    {
      "cell_type": "code",
      "source": [
        "df.Species=le.fit_transform(df.Species.values)\n",
        "df.Species"
      ],
      "metadata": {
        "colab": {
          "base_uri": "https://localhost:8080/"
        },
        "id": "roC9SgVPlfmm",
        "outputId": "93c53256-5f5b-4bb6-cf1a-9bb8de3d750f"
      },
      "execution_count": null,
      "outputs": [
        {
          "output_type": "execute_result",
          "data": {
            "text/plain": [
              "0      0\n",
              "1      0\n",
              "2      0\n",
              "3      0\n",
              "4      0\n",
              "      ..\n",
              "145    2\n",
              "146    2\n",
              "147    2\n",
              "148    2\n",
              "149    2\n",
              "Name: Species, Length: 150, dtype: int64"
            ]
          },
          "metadata": {},
          "execution_count": 7
        }
      ]
    },
    {
      "cell_type": "code",
      "source": [
        "df['Species'].unique()"
      ],
      "metadata": {
        "colab": {
          "base_uri": "https://localhost:8080/"
        },
        "id": "kYM6uIUJlfp1",
        "outputId": "7494e642-b20b-4b0f-fd4a-d071caf8d679"
      },
      "execution_count": null,
      "outputs": [
        {
          "output_type": "execute_result",
          "data": {
            "text/plain": [
              "array([0, 1, 2])"
            ]
          },
          "metadata": {},
          "execution_count": 8
        }
      ]
    },
    {
      "cell_type": "code",
      "source": [
        "y=df.Species\n",
        "y"
      ],
      "metadata": {
        "colab": {
          "base_uri": "https://localhost:8080/"
        },
        "id": "NXMFykdylfq4",
        "outputId": "f4c34509-97b7-40d4-fce6-2cd1f3486910"
      },
      "execution_count": null,
      "outputs": [
        {
          "output_type": "execute_result",
          "data": {
            "text/plain": [
              "0      0\n",
              "1      0\n",
              "2      0\n",
              "3      0\n",
              "4      0\n",
              "      ..\n",
              "145    2\n",
              "146    2\n",
              "147    2\n",
              "148    2\n",
              "149    2\n",
              "Name: Species, Length: 150, dtype: int64"
            ]
          },
          "metadata": {},
          "execution_count": 9
        }
      ]
    },
    {
      "cell_type": "code",
      "source": [
        "#Standardaise the data\n",
        "x=StandardScaler().fit_transform(x)\n",
        "x"
      ],
      "metadata": {
        "colab": {
          "base_uri": "https://localhost:8080/"
        },
        "id": "ZR60wh8qlfvi",
        "outputId": "0c9611d8-4f15-4f0b-f69f-a8780ed835c1"
      },
      "execution_count": null,
      "outputs": [
        {
          "output_type": "execute_result",
          "data": {
            "text/plain": [
              "array([[-1.34127240e+00, -1.31297673e+00],\n",
              "       [-1.34127240e+00, -1.31297673e+00],\n",
              "       [-1.39813811e+00, -1.31297673e+00],\n",
              "       [-1.28440670e+00, -1.31297673e+00],\n",
              "       [-1.34127240e+00, -1.31297673e+00],\n",
              "       [-1.17067529e+00, -1.05003079e+00],\n",
              "       [-1.34127240e+00, -1.18150376e+00],\n",
              "       [-1.28440670e+00, -1.31297673e+00],\n",
              "       [-1.34127240e+00, -1.31297673e+00],\n",
              "       [-1.28440670e+00, -1.44444970e+00],\n",
              "       [-1.28440670e+00, -1.31297673e+00],\n",
              "       [-1.22754100e+00, -1.31297673e+00],\n",
              "       [-1.34127240e+00, -1.44444970e+00],\n",
              "       [-1.51186952e+00, -1.44444970e+00],\n",
              "       [-1.45500381e+00, -1.31297673e+00],\n",
              "       [-1.28440670e+00, -1.05003079e+00],\n",
              "       [-1.39813811e+00, -1.05003079e+00],\n",
              "       [-1.34127240e+00, -1.18150376e+00],\n",
              "       [-1.17067529e+00, -1.18150376e+00],\n",
              "       [-1.28440670e+00, -1.18150376e+00],\n",
              "       [-1.17067529e+00, -1.31297673e+00],\n",
              "       [-1.28440670e+00, -1.05003079e+00],\n",
              "       [-1.56873522e+00, -1.31297673e+00],\n",
              "       [-1.17067529e+00, -9.18557817e-01],\n",
              "       [-1.05694388e+00, -1.31297673e+00],\n",
              "       [-1.22754100e+00, -1.31297673e+00],\n",
              "       [-1.22754100e+00, -1.05003079e+00],\n",
              "       [-1.28440670e+00, -1.31297673e+00],\n",
              "       [-1.34127240e+00, -1.31297673e+00],\n",
              "       [-1.22754100e+00, -1.31297673e+00],\n",
              "       [-1.22754100e+00, -1.31297673e+00],\n",
              "       [-1.28440670e+00, -1.05003079e+00],\n",
              "       [-1.28440670e+00, -1.44444970e+00],\n",
              "       [-1.34127240e+00, -1.31297673e+00],\n",
              "       [-1.28440670e+00, -1.44444970e+00],\n",
              "       [-1.45500381e+00, -1.31297673e+00],\n",
              "       [-1.39813811e+00, -1.31297673e+00],\n",
              "       [-1.28440670e+00, -1.44444970e+00],\n",
              "       [-1.39813811e+00, -1.31297673e+00],\n",
              "       [-1.28440670e+00, -1.31297673e+00],\n",
              "       [-1.39813811e+00, -1.18150376e+00],\n",
              "       [-1.39813811e+00, -1.18150376e+00],\n",
              "       [-1.39813811e+00, -1.31297673e+00],\n",
              "       [-1.22754100e+00, -7.87084847e-01],\n",
              "       [-1.05694388e+00, -1.05003079e+00],\n",
              "       [-1.34127240e+00, -1.18150376e+00],\n",
              "       [-1.22754100e+00, -1.31297673e+00],\n",
              "       [-1.34127240e+00, -1.31297673e+00],\n",
              "       [-1.28440670e+00, -1.31297673e+00],\n",
              "       [-1.34127240e+00, -1.31297673e+00],\n",
              "       [ 5.35295827e-01,  2.64698913e-01],\n",
              "       [ 4.21564419e-01,  3.96171883e-01],\n",
              "       [ 6.49027235e-01,  3.96171883e-01],\n",
              "       [ 1.37235899e-01,  1.33225943e-01],\n",
              "       [ 4.78430123e-01,  3.96171883e-01],\n",
              "       [ 4.21564419e-01,  1.33225943e-01],\n",
              "       [ 5.35295827e-01,  5.27644853e-01],\n",
              "       [-2.60824029e-01, -2.61192967e-01],\n",
              "       [ 4.78430123e-01,  1.33225943e-01],\n",
              "       [ 8.03701950e-02,  2.64698913e-01],\n",
              "       [-1.47092621e-01, -2.61192967e-01],\n",
              "       [ 2.50967307e-01,  3.96171883e-01],\n",
              "       [ 1.37235899e-01, -2.61192967e-01],\n",
              "       [ 5.35295827e-01,  2.64698913e-01],\n",
              "       [-9.02269170e-02,  1.33225943e-01],\n",
              "       [ 3.64698715e-01,  2.64698913e-01],\n",
              "       [ 4.21564419e-01,  3.96171883e-01],\n",
              "       [ 1.94101603e-01, -2.61192967e-01],\n",
              "       [ 4.21564419e-01,  3.96171883e-01],\n",
              "       [ 8.03701950e-02, -1.29719997e-01],\n",
              "       [ 5.92161531e-01,  7.90590793e-01],\n",
              "       [ 1.37235899e-01,  1.33225943e-01],\n",
              "       [ 6.49027235e-01,  3.96171883e-01],\n",
              "       [ 5.35295827e-01,  1.75297293e-03],\n",
              "       [ 3.07833011e-01,  1.33225943e-01],\n",
              "       [ 3.64698715e-01,  2.64698913e-01],\n",
              "       [ 5.92161531e-01,  2.64698913e-01],\n",
              "       [ 7.05892939e-01,  6.59117823e-01],\n",
              "       [ 4.21564419e-01,  3.96171883e-01],\n",
              "       [-1.47092621e-01, -2.61192967e-01],\n",
              "       [ 2.35044910e-02, -1.29719997e-01],\n",
              "       [-3.33612130e-02, -2.61192967e-01],\n",
              "       [ 8.03701950e-02,  1.75297293e-03],\n",
              "       [ 7.62758643e-01,  5.27644853e-01],\n",
              "       [ 4.21564419e-01,  3.96171883e-01],\n",
              "       [ 4.21564419e-01,  5.27644853e-01],\n",
              "       [ 5.35295827e-01,  3.96171883e-01],\n",
              "       [ 3.64698715e-01,  1.33225943e-01],\n",
              "       [ 1.94101603e-01,  1.33225943e-01],\n",
              "       [ 1.37235899e-01,  1.33225943e-01],\n",
              "       [ 3.64698715e-01,  1.75297293e-03],\n",
              "       [ 4.78430123e-01,  2.64698913e-01],\n",
              "       [ 1.37235899e-01,  1.75297293e-03],\n",
              "       [-2.60824029e-01, -2.61192967e-01],\n",
              "       [ 2.50967307e-01,  1.33225943e-01],\n",
              "       [ 2.50967307e-01,  1.75297293e-03],\n",
              "       [ 2.50967307e-01,  1.33225943e-01],\n",
              "       [ 3.07833011e-01,  1.33225943e-01],\n",
              "       [-4.31421141e-01, -1.29719997e-01],\n",
              "       [ 1.94101603e-01,  1.33225943e-01],\n",
              "       [ 1.27454998e+00,  1.71090158e+00],\n",
              "       [ 7.62758643e-01,  9.22063763e-01],\n",
              "       [ 1.21768427e+00,  1.18500970e+00],\n",
              "       [ 1.04708716e+00,  7.90590793e-01],\n",
              "       [ 1.16081857e+00,  1.31648267e+00],\n",
              "       [ 1.61574420e+00,  1.18500970e+00],\n",
              "       [ 4.21564419e-01,  6.59117823e-01],\n",
              "       [ 1.44514709e+00,  7.90590793e-01],\n",
              "       [ 1.16081857e+00,  7.90590793e-01],\n",
              "       [ 1.33141568e+00,  1.71090158e+00],\n",
              "       [ 7.62758643e-01,  1.05353673e+00],\n",
              "       [ 8.76490051e-01,  9.22063763e-01],\n",
              "       [ 9.90221459e-01,  1.18500970e+00],\n",
              "       [ 7.05892939e-01,  1.05353673e+00],\n",
              "       [ 7.62758643e-01,  1.57942861e+00],\n",
              "       [ 8.76490051e-01,  1.44795564e+00],\n",
              "       [ 9.90221459e-01,  7.90590793e-01],\n",
              "       [ 1.67260991e+00,  1.31648267e+00],\n",
              "       [ 1.78634131e+00,  1.44795564e+00],\n",
              "       [ 7.05892939e-01,  3.96171883e-01],\n",
              "       [ 1.10395287e+00,  1.44795564e+00],\n",
              "       [ 6.49027235e-01,  1.05353673e+00],\n",
              "       [ 1.67260991e+00,  1.05353673e+00],\n",
              "       [ 6.49027235e-01,  7.90590793e-01],\n",
              "       [ 1.10395287e+00,  1.18500970e+00],\n",
              "       [ 1.27454998e+00,  7.90590793e-01],\n",
              "       [ 5.92161531e-01,  7.90590793e-01],\n",
              "       [ 6.49027235e-01,  7.90590793e-01],\n",
              "       [ 1.04708716e+00,  1.18500970e+00],\n",
              "       [ 1.16081857e+00,  5.27644853e-01],\n",
              "       [ 1.33141568e+00,  9.22063763e-01],\n",
              "       [ 1.50201279e+00,  1.05353673e+00],\n",
              "       [ 1.04708716e+00,  1.31648267e+00],\n",
              "       [ 7.62758643e-01,  3.96171883e-01],\n",
              "       [ 1.04708716e+00,  2.64698913e-01],\n",
              "       [ 1.33141568e+00,  1.44795564e+00],\n",
              "       [ 1.04708716e+00,  1.57942861e+00],\n",
              "       [ 9.90221459e-01,  7.90590793e-01],\n",
              "       [ 5.92161531e-01,  7.90590793e-01],\n",
              "       [ 9.33355755e-01,  1.18500970e+00],\n",
              "       [ 1.04708716e+00,  1.57942861e+00],\n",
              "       [ 7.62758643e-01,  1.44795564e+00],\n",
              "       [ 7.62758643e-01,  9.22063763e-01],\n",
              "       [ 1.21768427e+00,  1.44795564e+00],\n",
              "       [ 1.10395287e+00,  1.71090158e+00],\n",
              "       [ 8.19624347e-01,  1.44795564e+00],\n",
              "       [ 7.05892939e-01,  9.22063763e-01],\n",
              "       [ 8.19624347e-01,  1.05353673e+00],\n",
              "       [ 9.33355755e-01,  1.44795564e+00],\n",
              "       [ 7.62758643e-01,  7.90590793e-01]])"
            ]
          },
          "metadata": {},
          "execution_count": 10
        }
      ]
    },
    {
      "cell_type": "code",
      "source": [
        "#Plot data to estimate number of clusters\n",
        "X=pd.DataFrame(x,columns=features)\n",
        "plt.figure(figsize=(6,6))\n",
        "plt.scatter(X['PetalLengthCm'], X['PetalWidthCm'])\n",
        "plt.xlabel('petal length (cm)')\n",
        "plt.ylabel('petal width (cm)');\n",
        "plt.title('K-Means Clustering')"
      ],
      "metadata": {
        "colab": {
          "base_uri": "https://localhost:8080/",
          "height": 421
        },
        "id": "pmLPXrRFlf0l",
        "outputId": "f9ce7c24-0c45-4b64-dd98-50aee4cba3cb"
      },
      "execution_count": null,
      "outputs": [
        {
          "output_type": "execute_result",
          "data": {
            "text/plain": [
              "Text(0.5, 1.0, 'K-Means Clustering')"
            ]
          },
          "metadata": {},
          "execution_count": 11
        },
        {
          "output_type": "display_data",
          "data": {
            "text/plain": [
              "<Figure size 432x432 with 1 Axes>"
            ],
            "image/png": "[encoded data removed]"
          },
          "metadata": {
            "needs_background": "light"
          }
        }
      ]
    },
    {
      "cell_type": "code",
      "source": [
        "#finding the optimum number of clusters for K-means clustering\n",
        "wcss = []\n",
        "\n",
        "for i in range(1, 11):\n",
        "    kmeans = KMeans(n_clusters = i, init = 'k-means++', \n",
        "                    max_iter = 300, n_init = 10, random_state = 0)\n",
        "    kmeans.fit(x)\n",
        "    wcss.append(kmeans.inertia_)"
      ],
      "metadata": {
        "id": "1w23j4RQl-yd"
      },
      "execution_count": null,
      "outputs": []
    },
    {
      "cell_type": "code",
      "source": [
        "# Plotting the results onto a line graph, \n",
        "# `allowing us to observe 'The elbow'\n",
        "plt.plot(range(1, 11), wcss)\n",
        "plt.title('The elbow method')\n",
        "plt.xlabel('Number of clusters')\n",
        "plt.ylabel('WCSS') # Within cluster sum of squares\n",
        "plt.show()"
      ],
      "metadata": {
        "colab": {
          "base_uri": "https://localhost:8080/",
          "height": 295
        },
        "id": "ALL7hafsl-z6",
        "outputId": "eb680cff-6cec-429d-f9fc-ba83c9b34007"
      },
      "execution_count": null,
      "outputs": [
        {
          "output_type": "display_data",
          "data": {
            "text/plain": [
              "<Figure size 432x288 with 1 Axes>"
            ],
            "image/png": "[encoded data removed]"
          },
          "metadata": {
            "needs_background": "light"
          }
        }
      ]
    },
    {
      "cell_type": "code",
      "source": [
        "#K-Means Clustering\n",
        "# Make an instance of KMeans with 3 clusters\n",
        "kmeans = KMeans(n_clusters=3, random_state=1)\n",
        "\n",
        "# Fit only on a features matrix\n",
        "kmeans.fit(x)"
      ],
      "metadata": {
        "colab": {
          "base_uri": "https://localhost:8080/"
        },
        "id": "OYH0Fk1vl_CR",
        "outputId": "a11c2ff0-d691-485c-e7b6-56397ae818d9"
      },
      "execution_count": null,
      "outputs": [
        {
          "output_type": "execute_result",
          "data": {
            "text/plain": [
              "KMeans(n_clusters=3, random_state=1)"
            ]
          },
          "metadata": {},
          "execution_count": 14
        }
      ]
    },
    {
      "cell_type": "code",
      "source": [
        "# Get labels and cluster centroids\n",
        "labels = kmeans.labels_\n",
        "centroids = kmeans.cluster_centers_"
      ],
      "metadata": {
        "id": "SbxD9HLlmO-v"
      },
      "execution_count": null,
      "outputs": []
    },
    {
      "cell_type": "code",
      "source": [
        "labels"
      ],
      "metadata": {
        "colab": {
          "base_uri": "https://localhost:8080/"
        },
        "id": "F7yKHn9OmO_1",
        "outputId": "c73a9614-abb6-4a70-b5ee-6a245306f3f6"
      },
      "execution_count": null,
      "outputs": [
        {
          "output_type": "execute_result",
          "data": {
            "text/plain": [
              "array([0, 0, 0, 0, 0, 0, 0, 0, 0, 0, 0, 0, 0, 0, 0, 0, 0, 0, 0, 0, 0, 0,\n",
              "       0, 0, 0, 0, 0, 0, 0, 0, 0, 0, 0, 0, 0, 0, 0, 0, 0, 0, 0, 0, 0, 0,\n",
              "       0, 0, 0, 0, 0, 0, 2, 2, 2, 2, 2, 2, 2, 2, 2, 2, 2, 2, 2, 2, 2, 2,\n",
              "       2, 2, 2, 2, 1, 2, 2, 2, 2, 2, 2, 1, 2, 2, 2, 2, 2, 2, 2, 2, 2, 2,\n",
              "       2, 2, 2, 2, 2, 2, 2, 2, 2, 2, 2, 2, 1, 1, 1, 1, 1, 1, 2, 1, 1, 1,\n",
              "       1, 1, 1, 1, 1, 1, 1, 1, 1, 2, 1, 1, 1, 1, 1, 1, 1, 1, 1, 1, 1, 1,\n",
              "       1, 2, 2, 1, 1, 1, 1, 1, 1, 1, 1, 1, 1, 1, 1, 1, 1, 1], dtype=int32)"
            ]
          },
          "metadata": {},
          "execution_count": 16
        }
      ]
    },
    {
      "cell_type": "code",
      "source": [
        "centroids"
      ],
      "metadata": {
        "colab": {
          "base_uri": "https://localhost:8080/"
        },
        "id": "50e-XjLFmPEq",
        "outputId": "a7ad6792-66b1-44c6-9e8d-1fb32d015946"
      },
      "execution_count": null,
      "outputs": [
        {
          "output_type": "execute_result",
          "data": {
            "text/plain": [
              "array([[-1.30487835, -1.25512862],\n",
              "       [ 1.02813193,  1.12749028],\n",
              "       [ 0.30564587,  0.16609419]])"
            ]
          },
          "metadata": {},
          "execution_count": 17
        }
      ]
    },
    {
      "cell_type": "code",
      "source": [
        "#Visually Evaluate the clusters\n",
        "colormap = np.array(['r', 'g', 'b'])\n",
        "plt.scatter(X['PetalLengthCm'], X['PetalWidthCm'], c=colormap[labels])\n",
        "plt.scatter(centroids[:,0], centroids[:,1], s = 300, marker = 'x', c = 'k')\n",
        "\n",
        "plt.xlabel('petal length (cm)')\n",
        "plt.ylabel('petal width (cm)');"
      ],
      "metadata": {
        "colab": {
          "base_uri": "https://localhost:8080/",
          "height": 279
        },
        "id": "BRr5x2ihmYAe",
        "outputId": "2d0650aa-e579-4c0f-bdc6-7c664f020a56"
      },
      "execution_count": null,
      "outputs": [
        {
          "output_type": "display_data",
          "data": {
            "text/plain": [
              "<Figure size 432x288 with 1 Axes>"
            ],
            "image/png": "[encoded data removed]"
          },
          "metadata": {
            "needs_background": "light"
          }
        }
      ]
    },
    {
      "cell_type": "code",
      "source": [
        "#Visually Evaluate the clusters and compare the species\n",
        "plt.figure(figsize=(10,4))\n",
        "\n",
        "plt.subplot(1, 2, 1)\n",
        "plt.scatter(X['PetalLengthCm'], X['PetalWidthCm'], c=colormap[labels])\n",
        "plt.scatter(centroids[:,0], centroids[:,1], s = 300, marker = 'x', c = 'k')\n",
        "plt.xlabel('petal length (cm)')\n",
        "plt.ylabel('petal width (cm)');\n",
        "plt.title('K-Means Clustering (k = 3)')\n",
        " \n",
        "plt.subplot(1, 2, 2)\n",
        "plt.scatter(X['PetalLengthCm'], X['PetalWidthCm'], c=colormap[y], s=40)\n",
        "plt.xlabel('petal length (cm)')\n",
        "plt.ylabel('petal width (cm)');\n",
        "plt.title('Flower Species')\n",
        "\n",
        "\n",
        "plt.tight_layout()"
      ],
      "metadata": {
        "colab": {
          "base_uri": "https://localhost:8080/",
          "height": 297
        },
        "id": "5jDtMgj7mYLO",
        "outputId": "a0368e35-5b1b-443c-bde0-1c8eab350342"
      },
      "execution_count": null,
      "outputs": [
        {
          "output_type": "display_data",
          "data": {
            "text/plain": [
              "<Figure size 720x288 with 2 Axes>"
            ],
            "image/png": "[encoded data removed]"
          },
          "metadata": {
            "needs_background": "light"
          }
        }
      ]
    },
    {
      "cell_type": "markdown",
      "source": [
        "They look pretty similar. Looks like KMeans picked up flower differences with only two features and not the labels. The colors are different in the two graphs simply because KMeans gives out a arbitrary cluster number and the iris dataset has an arbitrary number in the target column."
      ],
      "metadata": {
        "id": "9zDRX_ASmkdc"
      }
    }
  ]
}